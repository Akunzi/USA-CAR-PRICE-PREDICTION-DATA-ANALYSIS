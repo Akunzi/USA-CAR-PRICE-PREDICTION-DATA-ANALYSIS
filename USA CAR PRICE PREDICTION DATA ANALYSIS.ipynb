{
 "cells": [
  {
   "cell_type": "code",
   "execution_count": 1,
   "metadata": {},
   "outputs": [
    {
     "name": "stdout",
     "output_type": "stream",
     "text": [
      "(2499, 13)\n"
     ]
    }
   ],
   "source": [
    "import pandas as pd\n",
    "import seaborn as sns \n",
    "import numpy as np\n",
    "import matplotlib.pyplot as plt\n",
    "\n",
    "from sklearn.linear_model import LinearRegression\n",
    "from sklearn.model_selection import train_test_split \n",
    "from sklearn.metrics import mean_squared_error\n",
    "\n",
    "cars = pd.read_csv(r'C:\\\\Users\\\\AKUNNA DOVE\\\\Downloads\\\\Datasets-master\\\\USA_cars_datasets.csv') \n",
    "    \n",
    "print(cars.shape)"
   ]
  },
  {
   "cell_type": "code",
   "execution_count": 2,
   "metadata": {},
   "outputs": [
    {
     "name": "stdout",
     "output_type": "stream",
     "text": [
      "Index(['Unnamed: 0', 'price', 'brand', 'model', 'year', 'title_status',\n",
      "       'mileage', 'color', 'vin', 'lot', 'state', 'country', 'condition'],\n",
      "      dtype='object')\n"
     ]
    }
   ],
   "source": [
    "print(cars.columns)"
   ]
  },
  {
   "cell_type": "code",
   "execution_count": 3,
   "metadata": {},
   "outputs": [
    {
     "data": {
      "text/html": [
       "<div>\n",
       "<style scoped>\n",
       "    .dataframe tbody tr th:only-of-type {\n",
       "        vertical-align: middle;\n",
       "    }\n",
       "\n",
       "    .dataframe tbody tr th {\n",
       "        vertical-align: top;\n",
       "    }\n",
       "\n",
       "    .dataframe thead th {\n",
       "        text-align: right;\n",
       "    }\n",
       "</style>\n",
       "<table border=\"1\" class=\"dataframe\">\n",
       "  <thead>\n",
       "    <tr style=\"text-align: right;\">\n",
       "      <th></th>\n",
       "      <th>Unnamed: 0</th>\n",
       "      <th>price</th>\n",
       "      <th>brand</th>\n",
       "      <th>model</th>\n",
       "      <th>year</th>\n",
       "      <th>title_status</th>\n",
       "      <th>mileage</th>\n",
       "      <th>color</th>\n",
       "      <th>vin</th>\n",
       "      <th>lot</th>\n",
       "      <th>state</th>\n",
       "      <th>country</th>\n",
       "      <th>condition</th>\n",
       "    </tr>\n",
       "  </thead>\n",
       "  <tbody>\n",
       "    <tr>\n",
       "      <th>0</th>\n",
       "      <td>0</td>\n",
       "      <td>6300</td>\n",
       "      <td>toyota</td>\n",
       "      <td>cruiser</td>\n",
       "      <td>2008</td>\n",
       "      <td>clean vehicle</td>\n",
       "      <td>274117</td>\n",
       "      <td>black</td>\n",
       "      <td>jtezu11f88k007763</td>\n",
       "      <td>159348797</td>\n",
       "      <td>new jersey</td>\n",
       "      <td>usa</td>\n",
       "      <td>10 days left</td>\n",
       "    </tr>\n",
       "    <tr>\n",
       "      <th>1</th>\n",
       "      <td>1</td>\n",
       "      <td>2899</td>\n",
       "      <td>ford</td>\n",
       "      <td>se</td>\n",
       "      <td>2011</td>\n",
       "      <td>clean vehicle</td>\n",
       "      <td>190552</td>\n",
       "      <td>silver</td>\n",
       "      <td>2fmdk3gc4bbb02217</td>\n",
       "      <td>166951262</td>\n",
       "      <td>tennessee</td>\n",
       "      <td>usa</td>\n",
       "      <td>6 days left</td>\n",
       "    </tr>\n",
       "    <tr>\n",
       "      <th>2</th>\n",
       "      <td>2</td>\n",
       "      <td>5350</td>\n",
       "      <td>dodge</td>\n",
       "      <td>mpv</td>\n",
       "      <td>2018</td>\n",
       "      <td>clean vehicle</td>\n",
       "      <td>39590</td>\n",
       "      <td>silver</td>\n",
       "      <td>3c4pdcgg5jt346413</td>\n",
       "      <td>167655728</td>\n",
       "      <td>georgia</td>\n",
       "      <td>usa</td>\n",
       "      <td>2 days left</td>\n",
       "    </tr>\n",
       "    <tr>\n",
       "      <th>3</th>\n",
       "      <td>3</td>\n",
       "      <td>25000</td>\n",
       "      <td>ford</td>\n",
       "      <td>door</td>\n",
       "      <td>2014</td>\n",
       "      <td>clean vehicle</td>\n",
       "      <td>64146</td>\n",
       "      <td>blue</td>\n",
       "      <td>1ftfw1et4efc23745</td>\n",
       "      <td>167753855</td>\n",
       "      <td>virginia</td>\n",
       "      <td>usa</td>\n",
       "      <td>22 hours left</td>\n",
       "    </tr>\n",
       "    <tr>\n",
       "      <th>4</th>\n",
       "      <td>4</td>\n",
       "      <td>27700</td>\n",
       "      <td>chevrolet</td>\n",
       "      <td>1500</td>\n",
       "      <td>2018</td>\n",
       "      <td>clean vehicle</td>\n",
       "      <td>6654</td>\n",
       "      <td>red</td>\n",
       "      <td>3gcpcrec2jg473991</td>\n",
       "      <td>167763266</td>\n",
       "      <td>florida</td>\n",
       "      <td>usa</td>\n",
       "      <td>22 hours left</td>\n",
       "    </tr>\n",
       "  </tbody>\n",
       "</table>\n",
       "</div>"
      ],
      "text/plain": [
       "   Unnamed: 0  price      brand    model  year   title_status  mileage  \\\n",
       "0           0   6300     toyota  cruiser  2008  clean vehicle   274117   \n",
       "1           1   2899       ford       se  2011  clean vehicle   190552   \n",
       "2           2   5350      dodge      mpv  2018  clean vehicle    39590   \n",
       "3           3  25000       ford     door  2014  clean vehicle    64146   \n",
       "4           4  27700  chevrolet     1500  2018  clean vehicle     6654   \n",
       "\n",
       "    color                  vin        lot       state country      condition  \n",
       "0   black    jtezu11f88k007763  159348797  new jersey     usa   10 days left  \n",
       "1  silver    2fmdk3gc4bbb02217  166951262   tennessee     usa    6 days left  \n",
       "2  silver    3c4pdcgg5jt346413  167655728     georgia     usa    2 days left  \n",
       "3    blue    1ftfw1et4efc23745  167753855    virginia     usa  22 hours left  \n",
       "4     red    3gcpcrec2jg473991  167763266     florida     usa  22 hours left  "
      ]
     },
     "execution_count": 3,
     "metadata": {},
     "output_type": "execute_result"
    }
   ],
   "source": [
    "cars.head()"
   ]
  },
  {
   "cell_type": "code",
   "execution_count": 4,
   "metadata": {},
   "outputs": [],
   "source": [
    "cars.brand = [ 1 if each == \"toyota\"\n",
    "                else 2 if each == \"ford\"\n",
    "                else 3 if each == \"dodge\"\n",
    "                else 4 if each == \"chevrolet\"\n",
    "                else 5 if each == \"gmc\"\n",
    "                else 6 if each == \"chrysler\"\n",
    "                else 7 if each == \"kia\"\n",
    "                else 8 if each == \"buick\"\n",
    "                else 9 if each == \"infinity\"\n",
    "                else 10 if each == \"mercedes\"\n",
    "                else 11 if each == \"jeep\"\n",
    "                else 12 if each == \"cadillac\"\n",
    "                else 13 if each == \"bmw\"\n",
    "                else 14 if each == \"hyundai\"\n",
    "                else 15 if each == \"honda\"\n",
    "                else 16 if each == \"mazda\"\n",
    "                else 17 if each == \"heartland\"\n",
    "                else 18 if each == \"jaguar\"\n",
    "                else 19 if each == \"acura\"\n",
    "                else 20 if each == \"harley-davidson\"\n",
    "                else 21 if each == \"audi\"\n",
    "                else 22 if each == \"lincoln\"\n",
    "                else 23 if each == \"lexus\"\n",
    "                else 24 if each == \"nissan\"\n",
    "                else 25 if each == \"land\"\n",
    "                else 26 if each == \"maserati\"\n",
    "                else 27 if each == \"peterbilt\"\n",
    "                else 28 if each == \"ram\"\n",
    "                else 29 for each in cars.brand]\n",
    "   "
   ]
  },
  {
   "cell_type": "code",
   "execution_count": 5,
   "metadata": {},
   "outputs": [],
   "source": [
    "cars.color = [ 1 if each == \"black\"\n",
    "                else 2 if each == \"gray\"\n",
    "                else 3 if each == \"blue\"\n",
    "                else 4 if each == \"white\"\n",
    "                else 5 if each == \"gold\"\n",
    "                else 6 if each == \"red\"\n",
    "                else 7 if each == \"silver\"\n",
    "                else 8 if each == \"orange\"\n",
    "                else 9 if each == \"brown\"\n",
    "                else 10 if each == \"no_color\"\n",
    "                else 11 if each == \"charcoal\"\n",
    "                else 12 if each == \"turquoise\"\n",
    "                else 13 if each == \"beige\"\n",
    "                else 14 if each == \"green\"\n",
    "                else 15 if each == \"dark blue\"\n",
    "                else 16 if each == \"maroon\"\n",
    "                else 17 if each == \"phantom\"\n",
    "                else 18 if each == \"yellow\"\n",
    "                else 19 if each == \"light blue\"\n",
    "                else 20 if each == \"toreador red\"\n",
    "                else 21 if each == \"bright white clearcoat\"\n",
    "                else 22 if each == \"billet silver metallic clearcoat\"\n",
    "                else 23 if each == \"black clearcoat\"\n",
    "                else 24 if each == \"jazz blue pearlcoat\"\n",
    "                else 25 if each == \"ruby red metallic tinted clearcoat\"\n",
    "                else 26 if each == \"triple yellow tri-coat\"\n",
    "                else 27 if each == \"competition orange\"\n",
    "                else 28 if each == \"off-white\"\n",
    "                else 29 if each == \"shadow black\"\n",
    "                else 30 if each == \"magnetic metallic\"\n",
    "                else 31 if each == \"ingot silver metallic\"\n",
    "                else 32 if each == \"royal crimson metallic tinted clearcoat\"\n",
    "                else 33 if each == \"kona blue metallic\"\n",
    "                else 34 if each == \"oxford white\"\n",
    "                else 35 if each == \"lightening blue\"\n",
    "                else 36 if each == \"white platinum tri-coat metallic\"\n",
    "                else 37 for each in cars.color]\n",
    "   "
   ]
  },
  {
   "cell_type": "code",
   "execution_count": 6,
   "metadata": {},
   "outputs": [
    {
     "data": {
      "text/html": [
       "<div>\n",
       "<style scoped>\n",
       "    .dataframe tbody tr th:only-of-type {\n",
       "        vertical-align: middle;\n",
       "    }\n",
       "\n",
       "    .dataframe tbody tr th {\n",
       "        vertical-align: top;\n",
       "    }\n",
       "\n",
       "    .dataframe thead th {\n",
       "        text-align: right;\n",
       "    }\n",
       "</style>\n",
       "<table border=\"1\" class=\"dataframe\">\n",
       "  <thead>\n",
       "    <tr style=\"text-align: right;\">\n",
       "      <th></th>\n",
       "      <th>Unnamed: 0</th>\n",
       "      <th>price</th>\n",
       "      <th>brand</th>\n",
       "      <th>year</th>\n",
       "      <th>mileage</th>\n",
       "      <th>color</th>\n",
       "      <th>lot</th>\n",
       "    </tr>\n",
       "  </thead>\n",
       "  <tbody>\n",
       "    <tr>\n",
       "      <th>count</th>\n",
       "      <td>2499.00</td>\n",
       "      <td>2499.00</td>\n",
       "      <td>2499.00</td>\n",
       "      <td>2499.00</td>\n",
       "      <td>2499.00</td>\n",
       "      <td>2499.00</td>\n",
       "      <td>2.499000e+03</td>\n",
       "    </tr>\n",
       "    <tr>\n",
       "      <th>mean</th>\n",
       "      <td>1249.00</td>\n",
       "      <td>18767.67</td>\n",
       "      <td>6.12</td>\n",
       "      <td>2016.71</td>\n",
       "      <td>52298.69</td>\n",
       "      <td>4.66</td>\n",
       "      <td>1.676914e+08</td>\n",
       "    </tr>\n",
       "    <tr>\n",
       "      <th>std</th>\n",
       "      <td>721.54</td>\n",
       "      <td>12116.09</td>\n",
       "      <td>7.73</td>\n",
       "      <td>3.44</td>\n",
       "      <td>59705.52</td>\n",
       "      <td>5.18</td>\n",
       "      <td>2.038772e+05</td>\n",
       "    </tr>\n",
       "    <tr>\n",
       "      <th>min</th>\n",
       "      <td>0.00</td>\n",
       "      <td>0.00</td>\n",
       "      <td>1.00</td>\n",
       "      <td>1973.00</td>\n",
       "      <td>0.00</td>\n",
       "      <td>1.00</td>\n",
       "      <td>1.593488e+08</td>\n",
       "    </tr>\n",
       "    <tr>\n",
       "      <th>25%</th>\n",
       "      <td>624.50</td>\n",
       "      <td>10200.00</td>\n",
       "      <td>2.00</td>\n",
       "      <td>2016.00</td>\n",
       "      <td>21466.50</td>\n",
       "      <td>2.00</td>\n",
       "      <td>1.676253e+08</td>\n",
       "    </tr>\n",
       "    <tr>\n",
       "      <th>50%</th>\n",
       "      <td>1249.00</td>\n",
       "      <td>16900.00</td>\n",
       "      <td>3.00</td>\n",
       "      <td>2018.00</td>\n",
       "      <td>35365.00</td>\n",
       "      <td>4.00</td>\n",
       "      <td>1.677451e+08</td>\n",
       "    </tr>\n",
       "    <tr>\n",
       "      <th>75%</th>\n",
       "      <td>1873.50</td>\n",
       "      <td>25555.50</td>\n",
       "      <td>4.00</td>\n",
       "      <td>2019.00</td>\n",
       "      <td>63472.50</td>\n",
       "      <td>6.00</td>\n",
       "      <td>1.677798e+08</td>\n",
       "    </tr>\n",
       "    <tr>\n",
       "      <th>max</th>\n",
       "      <td>2498.00</td>\n",
       "      <td>84900.00</td>\n",
       "      <td>29.00</td>\n",
       "      <td>2020.00</td>\n",
       "      <td>1017936.00</td>\n",
       "      <td>37.00</td>\n",
       "      <td>1.678055e+08</td>\n",
       "    </tr>\n",
       "  </tbody>\n",
       "</table>\n",
       "</div>"
      ],
      "text/plain": [
       "       Unnamed: 0     price    brand     year     mileage    color  \\\n",
       "count     2499.00   2499.00  2499.00  2499.00     2499.00  2499.00   \n",
       "mean      1249.00  18767.67     6.12  2016.71    52298.69     4.66   \n",
       "std        721.54  12116.09     7.73     3.44    59705.52     5.18   \n",
       "min          0.00      0.00     1.00  1973.00        0.00     1.00   \n",
       "25%        624.50  10200.00     2.00  2016.00    21466.50     2.00   \n",
       "50%       1249.00  16900.00     3.00  2018.00    35365.00     4.00   \n",
       "75%       1873.50  25555.50     4.00  2019.00    63472.50     6.00   \n",
       "max       2498.00  84900.00    29.00  2020.00  1017936.00    37.00   \n",
       "\n",
       "                lot  \n",
       "count  2.499000e+03  \n",
       "mean   1.676914e+08  \n",
       "std    2.038772e+05  \n",
       "min    1.593488e+08  \n",
       "25%    1.676253e+08  \n",
       "50%    1.677451e+08  \n",
       "75%    1.677798e+08  \n",
       "max    1.678055e+08  "
      ]
     },
     "execution_count": 6,
     "metadata": {},
     "output_type": "execute_result"
    }
   ],
   "source": [
    "cars.describe().round(2)"
   ]
  },
  {
   "cell_type": "code",
   "execution_count": 7,
   "metadata": {},
   "outputs": [
    {
     "data": {
      "text/html": [
       "<div>\n",
       "<style scoped>\n",
       "    .dataframe tbody tr th:only-of-type {\n",
       "        vertical-align: middle;\n",
       "    }\n",
       "\n",
       "    .dataframe tbody tr th {\n",
       "        vertical-align: top;\n",
       "    }\n",
       "\n",
       "    .dataframe thead th {\n",
       "        text-align: right;\n",
       "    }\n",
       "</style>\n",
       "<table border=\"1\" class=\"dataframe\">\n",
       "  <thead>\n",
       "    <tr style=\"text-align: right;\">\n",
       "      <th></th>\n",
       "      <th>Unnamed: 0</th>\n",
       "      <th>price</th>\n",
       "      <th>brand</th>\n",
       "      <th>model</th>\n",
       "      <th>year</th>\n",
       "      <th>title_status</th>\n",
       "      <th>mileage</th>\n",
       "      <th>color</th>\n",
       "      <th>vin</th>\n",
       "      <th>lot</th>\n",
       "      <th>state</th>\n",
       "      <th>country</th>\n",
       "      <th>condition</th>\n",
       "    </tr>\n",
       "  </thead>\n",
       "  <tbody>\n",
       "    <tr>\n",
       "      <th>0</th>\n",
       "      <td>0</td>\n",
       "      <td>6300</td>\n",
       "      <td>1</td>\n",
       "      <td>cruiser</td>\n",
       "      <td>2008</td>\n",
       "      <td>clean vehicle</td>\n",
       "      <td>274117</td>\n",
       "      <td>1</td>\n",
       "      <td>jtezu11f88k007763</td>\n",
       "      <td>159348797</td>\n",
       "      <td>new jersey</td>\n",
       "      <td>usa</td>\n",
       "      <td>10 days left</td>\n",
       "    </tr>\n",
       "    <tr>\n",
       "      <th>1</th>\n",
       "      <td>1</td>\n",
       "      <td>2899</td>\n",
       "      <td>2</td>\n",
       "      <td>se</td>\n",
       "      <td>2011</td>\n",
       "      <td>clean vehicle</td>\n",
       "      <td>190552</td>\n",
       "      <td>7</td>\n",
       "      <td>2fmdk3gc4bbb02217</td>\n",
       "      <td>166951262</td>\n",
       "      <td>tennessee</td>\n",
       "      <td>usa</td>\n",
       "      <td>6 days left</td>\n",
       "    </tr>\n",
       "    <tr>\n",
       "      <th>2</th>\n",
       "      <td>2</td>\n",
       "      <td>5350</td>\n",
       "      <td>3</td>\n",
       "      <td>mpv</td>\n",
       "      <td>2018</td>\n",
       "      <td>clean vehicle</td>\n",
       "      <td>39590</td>\n",
       "      <td>7</td>\n",
       "      <td>3c4pdcgg5jt346413</td>\n",
       "      <td>167655728</td>\n",
       "      <td>georgia</td>\n",
       "      <td>usa</td>\n",
       "      <td>2 days left</td>\n",
       "    </tr>\n",
       "    <tr>\n",
       "      <th>3</th>\n",
       "      <td>3</td>\n",
       "      <td>25000</td>\n",
       "      <td>2</td>\n",
       "      <td>door</td>\n",
       "      <td>2014</td>\n",
       "      <td>clean vehicle</td>\n",
       "      <td>64146</td>\n",
       "      <td>3</td>\n",
       "      <td>1ftfw1et4efc23745</td>\n",
       "      <td>167753855</td>\n",
       "      <td>virginia</td>\n",
       "      <td>usa</td>\n",
       "      <td>22 hours left</td>\n",
       "    </tr>\n",
       "    <tr>\n",
       "      <th>4</th>\n",
       "      <td>4</td>\n",
       "      <td>27700</td>\n",
       "      <td>4</td>\n",
       "      <td>1500</td>\n",
       "      <td>2018</td>\n",
       "      <td>clean vehicle</td>\n",
       "      <td>6654</td>\n",
       "      <td>6</td>\n",
       "      <td>3gcpcrec2jg473991</td>\n",
       "      <td>167763266</td>\n",
       "      <td>florida</td>\n",
       "      <td>usa</td>\n",
       "      <td>22 hours left</td>\n",
       "    </tr>\n",
       "  </tbody>\n",
       "</table>\n",
       "</div>"
      ],
      "text/plain": [
       "   Unnamed: 0  price  brand    model  year   title_status  mileage  color  \\\n",
       "0           0   6300      1  cruiser  2008  clean vehicle   274117      1   \n",
       "1           1   2899      2       se  2011  clean vehicle   190552      7   \n",
       "2           2   5350      3      mpv  2018  clean vehicle    39590      7   \n",
       "3           3  25000      2     door  2014  clean vehicle    64146      3   \n",
       "4           4  27700      4     1500  2018  clean vehicle     6654      6   \n",
       "\n",
       "                   vin        lot       state country      condition  \n",
       "0    jtezu11f88k007763  159348797  new jersey     usa   10 days left  \n",
       "1    2fmdk3gc4bbb02217  166951262   tennessee     usa    6 days left  \n",
       "2    3c4pdcgg5jt346413  167655728     georgia     usa    2 days left  \n",
       "3    1ftfw1et4efc23745  167753855    virginia     usa  22 hours left  \n",
       "4    3gcpcrec2jg473991  167763266     florida     usa  22 hours left  "
      ]
     },
     "execution_count": 7,
     "metadata": {},
     "output_type": "execute_result"
    }
   ],
   "source": [
    "cars.head()"
   ]
  },
  {
   "cell_type": "code",
   "execution_count": 8,
   "metadata": {},
   "outputs": [
    {
     "name": "stdout",
     "output_type": "stream",
     "text": [
      "            Unnamed: 0  price  brand  year  mileage  color   lot\n",
      "Unnamed: 0        1.00   0.10   0.30  0.24    -0.13   0.06  0.01\n",
      "price             0.10   1.00  -0.23  0.42    -0.40  -0.02  0.16\n",
      "brand             0.30  -0.23   1.00  0.05    -0.00  -0.02 -0.14\n",
      "year              0.24   0.42   0.05  1.00    -0.59  -0.11  0.16\n",
      "mileage          -0.13  -0.40  -0.00 -0.59     1.00   0.06 -0.13\n",
      "color             0.06  -0.02  -0.02 -0.11     0.06   1.00 -0.05\n",
      "lot               0.01   0.16  -0.14  0.16    -0.13  -0.05  1.00\n"
     ]
    }
   ],
   "source": [
    "corr_matrix = cars.corr().round(2)\n",
    "print(corr_matrix)"
   ]
  },
  {
   "cell_type": "code",
   "execution_count": 9,
   "metadata": {},
   "outputs": [
    {
     "data": {
      "image/png": "[encoded data removed]",
      "text/plain": [
       "<Figure size 576x432 with 1 Axes>"
      ]
     },
     "metadata": {
      "needs_background": "light"
     },
     "output_type": "display_data"
    }
   ],
   "source": [
    "cars.plot(kind='scatter', x='year', y='price', figsize=(8,6))\n",
    "plt.show()"
   ]
  },
  {
   "cell_type": "code",
   "execution_count": 10,
   "metadata": {},
   "outputs": [
    {
     "data": {
      "image/png": "[encoded data removed]",
      "text/plain": [
       "<Figure size 576x432 with 1 Axes>"
      ]
     },
     "metadata": {
      "needs_background": "light"
     },
     "output_type": "display_data"
    }
   ],
   "source": [
    "cars.plot(kind='scatter', x='mileage', y='price', figsize=(8,6))\n",
    "plt.show()"
   ]
  },
  {
   "cell_type": "code",
   "execution_count": 11,
   "metadata": {},
   "outputs": [
    {
     "data": {
      "image/png": "[encoded data removed]",
      "text/plain": [
       "<Figure size 576x432 with 1 Axes>"
      ]
     },
     "metadata": {
      "needs_background": "light"
     },
     "output_type": "display_data"
    }
   ],
   "source": [
    "cars.plot(kind='scatter', x='lot', y='price', figsize=(8,6))\n",
    "plt.show()"
   ]
  },
  {
   "cell_type": "code",
   "execution_count": 12,
   "metadata": {},
   "outputs": [
    {
     "data": {
      "image/png": "[encoded data removed]",
      "text/plain": [
       "<Figure size 576x432 with 1 Axes>"
      ]
     },
     "metadata": {
      "needs_background": "light"
     },
     "output_type": "display_data"
    }
   ],
   "source": [
    "cars.plot(kind='scatter', x='brand', y='price', figsize=(8,6))\n",
    "plt.show()"
   ]
  },
  {
   "cell_type": "code",
   "execution_count": 13,
   "metadata": {},
   "outputs": [
    {
     "data": {
      "image/png": "[encoded data removed]",
      "text/plain": [
       "<Figure size 576x432 with 1 Axes>"
      ]
     },
     "metadata": {
      "needs_background": "light"
     },
     "output_type": "display_data"
    }
   ],
   "source": [
    "cars.plot(kind='scatter', x='color', y='price', figsize=(8,6))\n",
    "plt.show()"
   ]
  },
  {
   "cell_type": "code",
   "execution_count": 14,
   "metadata": {},
   "outputs": [
    {
     "name": "stdout",
     "output_type": "stream",
     "text": [
      "ROW AND COLUMN COUNT\n",
      "(2499, 1)\n",
      "(2499,)\n",
      "INTERCEPT: -2749041.88\n",
      "SLOPE: [1372.41]\n",
      "CAR PRICE PREDICTION: [10866.62830048]\n"
     ]
    }
   ],
   "source": [
    "#..........................FIRST MODEL....................................................\n",
    "\n",
    "X = cars[['year']]\n",
    "Y = cars['price'] #target\n",
    "\n",
    "#CHECKING TO MAKE SURE THAT ROW COUNTS ARE ACCURATE AND SAME\n",
    "print(\"ROW AND COLUMN COUNT\")\n",
    "print (X.shape)\n",
    "print (Y.shape) \n",
    "    \n",
    "X_train, X_test, Y_train, Y_test = train_test_split(X, Y, test_size = 0.3, random_state = 1)\n",
    "\n",
    "model = LinearRegression()\n",
    "    \n",
    "model.fit(X_train, Y_train)\n",
    "\n",
    "y_test_predicted = model.predict(X_test)\n",
    "\n",
    "print('INTERCEPT:',model.intercept_.round(2))\n",
    "print('SLOPE:',model.coef_.round(2))\n",
    "\n",
    "#First Model Price Prediction\n",
    "print('CAR PRICE PREDICTION:', model.intercept_ + model.coef_*2011)"
   ]
  },
  {
   "cell_type": "code",
   "execution_count": 15,
   "metadata": {},
   "outputs": [
    {
     "name": "stdout",
     "output_type": "stream",
     "text": [
      "INTERCEPT: -1885552.2\n",
      "SLOPE: [ 9.4536e+02 -4.0000e-02]\n",
      "CAR PRICE PREDICTION: 7944.680000000009\n"
     ]
    }
   ],
   "source": [
    "#........................SECOND MODEL........................................................ \n",
    "\n",
    "X2 = cars[['year', 'mileage']]\n",
    "Y = cars['price'] #target\n",
    "\n",
    "X2_train, X2_test, Y_train, Y_test = train_test_split(X2, Y, test_size = 0.3, random_state = 1)\n",
    "    \n",
    "model2 = LinearRegression()\n",
    "    \n",
    "model2.fit(X2_train, Y_train)\n",
    "\n",
    "y_test_predicted2 = model2.predict(X2_test)\n",
    "\n",
    "print('INTERCEPT:', model2.intercept_.round(2))\n",
    "print('SLOPE:', model2.coef_.round(2))\n",
    "\n",
    "#Second Model Price Prediction\n",
    "print('CAR PRICE PREDICTION:',model2.intercept_.round(2)+(model2.coef_.round(2)[0]*2011)+(model2.coef_.round(2)[1]*190552))"
   ]
  },
  {
   "cell_type": "code",
   "execution_count": 16,
   "metadata": {},
   "outputs": [
    {
     "name": "stdout",
     "output_type": "stream",
     "text": [
      "INTERCEPT: -2494418.53\n",
      "SLOPE: [ 9.142e+02 -4.000e-02  0.000e+00]\n",
      "CAR PRICE PREDICTION: -663584.4099999996\n"
     ]
    }
   ],
   "source": [
    "#............................THIRD MODEL..................................................... \n",
    "\n",
    "X3 = cars[['year', 'mileage', 'lot']]\n",
    "Y = cars['price'] #target\n",
    "\n",
    "X3_train, X3_test, Y_train, Y_test = train_test_split(X3, Y, test_size = 0.3, random_state = 1)\n",
    "    \n",
    "model3 = LinearRegression()\n",
    "    \n",
    "model3.fit(X3_train, Y_train)\n",
    "\n",
    "y_test_predicted3 = model3.predict(X3_test)\n",
    "\n",
    "print('INTERCEPT:',model3.intercept_.round(2))\n",
    "print('SLOPE:',model3.coef_.round(2))\n",
    "\n",
    "#Third Model Price Prediction\n",
    "print('CAR PRICE PREDICTION:',model3.intercept_.round(2)+(model3.coef_.round(2)[0]*2011)+(model3.coef_.round(2)[1]*190552)+(model3.coef_.round(2)[2]*166951262))"
   ]
  },
  {
   "cell_type": "code",
   "execution_count": 17,
   "metadata": {},
   "outputs": [
    {
     "name": "stdout",
     "output_type": "stream",
     "text": [
      "INTERCEPT: -2388122.2\n",
      "SLOPE: [ 9.9489e+02 -4.0000e-02  0.0000e+00 -3.4336e+02]\n",
      "CAR PRICE PREDICTION: -395707.21000000014\n"
     ]
    }
   ],
   "source": [
    "#...........................FOURTH MODEL..................................................... \n",
    "\n",
    "X4 = cars[['year', 'mileage', 'lot', 'brand']]\n",
    "Y = cars['price'] #target\n",
    "\n",
    "X4_train, X4_test, Y_train, Y_test = train_test_split(X4, Y, test_size = 0.3, random_state = 1)\n",
    "    \n",
    "model4 = LinearRegression()\n",
    "    \n",
    "model4.fit(X4_train, Y_train)\n",
    "\n",
    "y_test_predicted4 = model4.predict(X4_test)\n",
    "\n",
    "print('INTERCEPT:',model4.intercept_.round(2))\n",
    "print('SLOPE:',model4.coef_.round(2))\n",
    "\n",
    "#Fourth Model Price Prediction\n",
    "print('CAR PRICE PREDICTION:',model4.intercept_.round(2)+(model4.coef_.round(2)[0]*2011)+(model4.coef_.round(2)[1]*190552)+(model4.coef_.round(2)[2]*166951262)+(model4.coef_.round(2)[3]*2))"
   ]
  },
  {
   "cell_type": "code",
   "execution_count": 18,
   "metadata": {},
   "outputs": [
    {
     "name": "stdout",
     "output_type": "stream",
     "text": [
      "INTERCEPT: -2405613.78\n",
      "SLOPE: [ 1.00151e+03 -4.00000e-02  0.00000e+00 -3.42810e+02  4.47500e+01]\n",
      "CAR PRICE PREDICTION: -399795.36999999994\n"
     ]
    }
   ],
   "source": [
    "#...........................FIFTH MODEL..................................................... \n",
    "\n",
    "X5 = cars[['year', 'mileage', 'lot', 'brand', 'color']]\n",
    "Y = cars['price'] #target\n",
    "\n",
    "X5_train, X5_test, Y_train, Y_test = train_test_split(X5, Y, test_size = 0.3, random_state = 1)\n",
    "    \n",
    "model5 = LinearRegression()\n",
    "    \n",
    "model5.fit(X5_train, Y_train)\n",
    "\n",
    "y_test_predicted5 = model5.predict(X5_test)\n",
    "\n",
    "print('INTERCEPT:',model5.intercept_.round(2))\n",
    "print('SLOPE:',model5.coef_.round(2))\n",
    "\n",
    "#Fifth Model Price Prediction\n",
    "print('CAR PRICE PREDICTION:',model5.intercept_.round(2)+(model5.coef_.round(2)[0]*2011)+(model5.coef_.round(2)[1]*190552)+(model5.coef_.round(2)[2]*166951262)+(model5.coef_.round(2)[3]*2)+(model5.coef_.round(2)[4]*2))"
   ]
  },
  {
   "cell_type": "code",
   "execution_count": 19,
   "metadata": {},
   "outputs": [
    {
     "name": "stdout",
     "output_type": "stream",
     "text": [
      "119889631.52\n",
      "115077113.69\n",
      "113729203.71\n",
      "102735071.49\n",
      "102661236.16\n"
     ]
    }
   ],
   "source": [
    "#..............MEAN SQUARED ERROR REPORT FOR THE DIFFERENT MODELS................\n",
    "\n",
    "#FIRST\n",
    "print(mean_squared_error(Y_test, y_test_predicted).round(2))\n",
    "\n",
    "#SECOND\n",
    "print(mean_squared_error(Y_test, y_test_predicted2).round(2))\n",
    "\n",
    "#THIRD\n",
    "print(mean_squared_error(Y_test, y_test_predicted3).round(2))\n",
    "\n",
    "#FOURTH\n",
    "print(mean_squared_error(Y_test, y_test_predicted4).round(2))\n",
    "\n",
    "#FIFTH\n",
    "print(mean_squared_error(Y_test, y_test_predicted5).round(2))"
   ]
  },
  {
   "cell_type": "code",
   "execution_count": 20,
   "metadata": {},
   "outputs": [],
   "source": [
    "#.....THE FIFTH MODEL IS THE MOST ACCURATE IN TERMS OF PREDICTION......."
   ]
  },
  {
   "cell_type": "code",
   "execution_count": null,
   "metadata": {},
   "outputs": [],
   "source": []
  },
  {
   "cell_type": "code",
   "execution_count": null,
   "metadata": {},
   "outputs": [],
   "source": []
  },
  {
   "cell_type": "code",
   "execution_count": null,
   "metadata": {},
   "outputs": [],
   "source": []
  },
  {
   "cell_type": "code",
   "execution_count": null,
   "metadata": {},
   "outputs": [],
   "source": []
  }
 ],
 "metadata": {
  "kernelspec": {
   "display_name": "Python 3",
   "language": "python",
   "name": "python3"
  },
  "language_info": {
   "codemirror_mode": {
    "name": "ipython",
    "version": 3
   },
   "file_extension": ".py",
   "mimetype": "text/x-python",
   "name": "python",
   "nbconvert_exporter": "python",
   "pygments_lexer": "ipython3",
   "version": "3.8.5"
  }
 },
 "nbformat": 4,
 "nbformat_minor": 4
}
